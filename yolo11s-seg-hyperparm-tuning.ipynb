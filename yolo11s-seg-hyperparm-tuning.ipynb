{
 "cells": [
  {
   "cell_type": "code",
   "execution_count": null,
   "metadata": {},
   "outputs": [],
   "source": [
    "!pip install scikit-learn opencv-python matplotlib seaborn pandas pyyaml\n",
    "!pip install torch torchvision\n",
    "!pip install -U ultralytics \"ray[tune]\"\n",
    "!pip install roboflow\n",
    "!pip install wandb"
   ]
  },
  {
   "cell_type": "code",
   "execution_count": null,
   "metadata": {},
   "outputs": [
    {
     "name": "stdout",
     "output_type": "stream",
     "text": [
      "loading Roboflow workspace...\n",
      "loading Roboflow project...\n"
     ]
    },
    {
     "name": "stderr",
     "output_type": "stream",
     "text": [
      "Downloading Dataset Version Zip in banner_seg_detection-3 to yolov11:: 100%|██████████| 220840/220840 [00:20<00:00, 10613.43it/s]"
     ]
    },
    {
     "name": "stdout",
     "output_type": "stream",
     "text": [
      "\n"
     ]
    },
    {
     "name": "stderr",
     "output_type": "stream",
     "text": [
      "\n",
      "Extracting Dataset Version Zip to banner_seg_detection-3 in yolov11:: 100%|██████████| 7962/7962 [00:32<00:00, 244.04it/s]"
     ]
    },
    {
     "name": "stdout",
     "output_type": "stream",
     "text": [
      "Dataset location: /workspace/banner_seg_detection-3\n"
     ]
    },
    {
     "name": "stderr",
     "output_type": "stream",
     "text": [
      "\n"
     ]
    }
   ],
   "source": [
    "from roboflow import Roboflow\n",
    "rf = Roboflow(api_key=\"XXXXXXXXXXXX\")\n",
    "project = rf.workspace(\"capstonedesign-xkejj\").project(\"banner_seg_detection\")\n",
    "version = project.version(3)\n",
    "dataset = version.download(\"yolov11\")\n",
    "                \n",
    "\n",
    "print(\"Dataset location:\", dataset.location)"
   ]
  },
  {
   "cell_type": "code",
   "execution_count": 3,
   "metadata": {},
   "outputs": [
    {
     "name": "stdout",
     "output_type": "stream",
     "text": [
      "CUDA available: True\n",
      "Device name: NVIDIA RTX A6000\n"
     ]
    }
   ],
   "source": [
    "import torch\n",
    "print(\"CUDA available:\", torch.cuda.is_available())\n",
    "print(\"Device name:\", torch.cuda.get_device_name(0) if torch.cuda.is_available() else \"No GPU\")"
   ]
  },
  {
   "cell_type": "code",
   "execution_count": 4,
   "metadata": {},
   "outputs": [
    {
     "name": "stdout",
     "output_type": "stream",
     "text": [
      "WARNING ⚠️ user config directory '/root/.config/Ultralytics' is not writeable, defaulting to '/tmp' or CWD.Alternatively you can define a YOLO_CONFIG_DIR environment variable for this path.\n",
      "Creating new Ultralytics Settings v0.0.6 file ✅ \n",
      "View Ultralytics Settings with 'yolo settings' or at '/tmp/Ultralytics/settings.json'\n",
      "Update Settings with 'yolo settings key=value', i.e. 'yolo settings runs_dir=path/to/dir'. For help see https://docs.ultralytics.com/quickstart/#ultralytics-settings.\n"
     ]
    }
   ],
   "source": [
    "from ultralytics import YOLO\n",
    "from ray import tune\n",
    "import wandb\n",
    "import os"
   ]
  },
  {
   "cell_type": "code",
   "execution_count": null,
   "metadata": {},
   "outputs": [],
   "source": [
    "wandb.login(key=\"XXXXXXXXXXXXXXXX\")"
   ]
  },
  {
   "cell_type": "code",
   "execution_count": 9,
   "metadata": {},
   "outputs": [
    {
     "name": "stdout",
     "output_type": "stream",
     "text": [
      "하위 폴더: ['valid', 'train', 'test', 'data.yaml', 'README.roboflow.txt', 'README.dataset.txt']\n"
     ]
    }
   ],
   "source": [
    "print(\"하위 폴더:\", os.listdir(\"/workspace/banner_seg_detection-3\"))"
   ]
  },
  {
   "cell_type": "code",
   "execution_count": 10,
   "metadata": {},
   "outputs": [],
   "source": [
    "import os\n",
    "\n",
    "os.environ[\"WANDB_PROJECT\"] = \"BANner_it_Tuning\"\n",
    "os.environ[\"WANDB_NAME\"] = \"yolo11s-seg-tuning\""
   ]
  },
  {
   "cell_type": "code",
   "execution_count": 11,
   "metadata": {},
   "outputs": [
    {
     "name": "stdout",
     "output_type": "stream",
     "text": [
      "Downloading https://github.com/ultralytics/assets/releases/download/v8.3.0/yolo11s-seg.pt to 'yolo11s-seg.pt'...\n"
     ]
    },
    {
     "name": "stderr",
     "output_type": "stream",
     "text": [
      "100%|██████████| 19.7M/19.7M [00:00<00:00, 106MB/s] \n"
     ]
    }
   ],
   "source": [
    "model = YOLO(\"yolo11s-seg.pt\") "
   ]
  },
  {
   "cell_type": "code",
   "execution_count": 14,
   "metadata": {},
   "outputs": [
    {
     "name": "stdout",
     "output_type": "stream",
     "text": [
      "Mon May 19 13:45:37 2025       \n",
      "+-----------------------------------------------------------------------------------------+\n",
      "| NVIDIA-SMI 565.57.01              Driver Version: 565.57.01      CUDA Version: 12.7     |\n",
      "|-----------------------------------------+------------------------+----------------------+\n",
      "| GPU  Name                 Persistence-M | Bus-Id          Disp.A | Volatile Uncorr. ECC |\n",
      "| Fan  Temp   Perf          Pwr:Usage/Cap |           Memory-Usage | GPU-Util  Compute M. |\n",
      "|                                         |                        |               MIG M. |\n",
      "|=========================================+========================+======================|\n",
      "|   0  NVIDIA RTX A6000               On  |   00000000:4F:00.0 Off |                    0 |\n",
      "| 30%   29C    P8             25W /  300W |       4MiB /  46068MiB |      0%      Default |\n",
      "|                                         |                        |                  N/A |\n",
      "+-----------------------------------------+------------------------+----------------------+\n",
      "                                                                                         \n",
      "+-----------------------------------------------------------------------------------------+\n",
      "| Processes:                                                                              |\n",
      "|  GPU   GI   CI        PID   Type   Process name                              GPU Memory |\n",
      "|        ID   ID                                                               Usage      |\n",
      "|=========================================================================================|\n",
      "|  No running processes found                                                             |\n",
      "+-----------------------------------------------------------------------------------------+\n",
      "Architecture:             x86_64\n",
      "  CPU op-mode(s):         32-bit, 64-bit\n",
      "  Address sizes:          52 bits physical, 57 bits virtual\n",
      "  Byte Order:             Little Endian\n",
      "CPU(s):                   96\n",
      "  On-line CPU(s) list:    0-95\n",
      "Vendor ID:                GenuineIntel\n",
      "  Model name:             Intel(R) Xeon(R) Gold 6342 CPU @ 2.80GHz\n",
      "    CPU family:           6\n",
      "    Model:                106\n",
      "    Thread(s) per core:   2\n",
      "    Core(s) per socket:   24\n",
      "    Socket(s):            2\n",
      "    Stepping:             6\n",
      "    CPU max MHz:          3500.0000\n",
      "    CPU min MHz:          800.0000\n",
      "    BogoMIPS:             5600.00\n",
      "    Flags:                fpu vme de pse tsc msr pae mce cx8 apic sep mtrr pge m\n",
      "                          ca cmov pat pse36 clflush dts acpi mmx fxsr sse sse2 s\n",
      "                          s ht tm pbe syscall nx pdpe1gb rdtscp lm constant_tsc \n",
      "                          art arch_perfmon pebs bts rep_good nopl xtopology nons\n",
      "                          top_tsc cpuid aperfmperf pni pclmulqdq dtes64 monitor \n",
      "                          ds_cpl vmx smx est tm2 ssse3 sdbg fma cx16 xtpr pdcm p\n",
      "                          cid dca sse4_1 sse4_2 x2apic movbe popcnt tsc_deadline\n",
      "                          _timer aes xsave avx f16c rdrand lahf_lm abm 3dnowpref\n",
      "                          etch cpuid_fault epb cat_l3 ssbd mba ibrs ibpb stibp i\n",
      "                          brs_enhanced tpr_shadow flexpriority ept vpid ept_ad f\n",
      "                          sgsbase tsc_adjust bmi1 avx2 smep bmi2 erms invpcid cq\n",
      "                          m rdt_a avx512f avx512dq rdseed adx smap avx512ifma cl\n",
      "                          flushopt clwb intel_pt avx512cd sha_ni avx512bw avx512\n",
      "                          vl xsaveopt xsavec xgetbv1 xsaves cqm_llc cqm_occup_ll\n",
      "                          c cqm_mbm_total cqm_mbm_local split_lock_detect wbnoin\n",
      "                          vd dtherm ida arat pln pts vnmi avx512vbmi umip pku os\n",
      "                          pke avx512_vbmi2 gfni vaes vpclmulqdq avx512_vnni avx5\n",
      "                          12_bitalg tme avx512_vpopcntdq la57 rdpid fsrm md_clea\n",
      "                          r pconfig flush_l1d arch_capabilities\n",
      "Virtualization features:  \n",
      "  Virtualization:         VT-x\n",
      "Caches (sum of all):      \n",
      "  L1d:                    2.3 MiB (48 instances)\n",
      "  L1i:                    1.5 MiB (48 instances)\n",
      "  L2:                     60 MiB (48 instances)\n",
      "  L3:                     72 MiB (2 instances)\n",
      "NUMA:                     \n",
      "  NUMA node(s):           2\n",
      "  NUMA node0 CPU(s):      0-23,48-71\n",
      "  NUMA node1 CPU(s):      24-47,72-95\n",
      "Vulnerabilities:          \n",
      "  Gather data sampling:   Mitigation; Microcode\n",
      "  Itlb multihit:          Not affected\n",
      "  L1tf:                   Not affected\n",
      "  Mds:                    Not affected\n",
      "  Meltdown:               Not affected\n",
      "  Mmio stale data:        Mitigation; Clear CPU buffers; SMT vulnerable\n",
      "  Reg file data sampling: Not affected\n",
      "  Retbleed:               Not affected\n",
      "  Spec rstack overflow:   Not affected\n",
      "  Spec store bypass:      Mitigation; Speculative Store Bypass disabled via prct\n",
      "                          l\n",
      "  Spectre v1:             Mitigation; usercopy/swapgs barriers and __user pointe\n",
      "                          r sanitization\n",
      "  Spectre v2:             Mitigation; Enhanced / Automatic IBRS; IBPB conditiona\n",
      "                          l; RSB filling; PBRSB-eIBRS SW sequence; BHI SW loop, \n",
      "                          KVM SW loop\n",
      "  Srbds:                  Not affected\n",
      "  Tsx async abort:        Not affected\n"
     ]
    }
   ],
   "source": [
    "!nvidia-smi      # GPU 수 확인\n",
    "!lscpu           # CPU 코어 수 확인"
   ]
  },
  {
   "cell_type": "code",
   "execution_count": null,
   "metadata": {},
   "outputs": [],
   "source": [
    "result_grid = model.tune(\n",
    "    data=\"workspace/banner_seg_detection-3/data.yaml\",  \n",
    "    space={\n",
    "        \"lr0\": tune.loguniform(1e-4, 5e-3),\n",
    "        \"momentum\": tune.uniform(0.75, 0.97),\n",
    "        \"weight_decay\": tune.loguniform(1e-5, 1e-3),\n",
    "        \"batch\": tune.choice([16, 32, 64]),\n",
    "        \"warmup_epochs\": tune.choice([0, 2, 3, 5]),\n",
    "    },\n",
    "    epochs=30,\n",
    "    iterations=20,   \n",
    "    device=0,\n",
    "    use_ray=True,\n",
    "    gpu_per_trial=1\n",
    ")"
   ]
  },
  {
   "cell_type": "code",
   "execution_count": null,
   "metadata": {},
   "outputs": [],
   "source": [
    "experiment_path = \"/kaggle/working/runs\"\n",
    "print(f\"Loading results from {experiment_path}...\")\n",
    "\n",
    "restored_tuner = tune.Tuner.restore(experiment_path, trainable=\"/kaggle/working/banner_seg_detection-2\")\n",
    "result_grid = restored_tuner.get_results()"
   ]
  },
  {
   "cell_type": "code",
   "execution_count": null,
   "metadata": {},
   "outputs": [],
   "source": [
    "for i, result in enumerate(result_grid):\n",
    "    print(f\"Trial #{i}: Configuration: {result.config}, Last Reported Metrics: {result.metrics}\")"
   ]
  },
  {
   "cell_type": "code",
   "execution_count": null,
   "metadata": {
    "execution": {
     "iopub.execute_input": "2025-05-12T13:33:18.154960Z",
     "iopub.status.busy": "2025-05-12T13:33:18.154389Z",
     "iopub.status.idle": "2025-05-12T13:33:18.160064Z",
     "shell.execute_reply": "2025-05-12T13:33:18.159227Z",
     "shell.execute_reply.started": "2025-05-12T13:33:18.154937Z"
    }
   },
   "outputs": [],
   "source": [
    "import pickle\n",
    "\n",
    "with open(f\"{experiment_path}/tuner.pkl\", \"rb\") as f:\n",
    "    data = pickle.load(f)\n",
    "\n",
    "print(data[\"__trainable_name\"])\n"
   ]
  }
 ],
 "metadata": {
  "kaggle": {
   "accelerator": "gpu",
   "dataSources": [],
   "dockerImageVersionId": 31011,
   "isGpuEnabled": true,
   "isInternetEnabled": true,
   "language": "python",
   "sourceType": "notebook"
  },
  "kernelspec": {
   "display_name": "Python 3 (ipykernel)",
   "language": "python",
   "name": "python3"
  },
  "language_info": {
   "codemirror_mode": {
    "name": "ipython",
    "version": 3
   },
   "file_extension": ".py",
   "mimetype": "text/x-python",
   "name": "python",
   "nbconvert_exporter": "python",
   "pygments_lexer": "ipython3",
   "version": "3.10.12"
  }
 },
 "nbformat": 4,
 "nbformat_minor": 4
}
