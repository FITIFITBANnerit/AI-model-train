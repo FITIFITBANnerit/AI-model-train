{
 "cells": [
  {
   "cell_type": "code",
   "execution_count": null,
   "id": "40a93f91-075a-40f1-b250-0c1aa2c86a16",
   "metadata": {
    "scrolled": true
   },
   "outputs": [],
   "source": [
    "!pip install --upgrade pip\n",
    "!pip install ultralytics\n",
    "!pip install roboflow\n",
    "!pip install wandb"
   ]
  },
  {
   "cell_type": "code",
   "execution_count": null,
   "id": "9a53a181-a6bf-4780-b873-44c6bf42bd69",
   "metadata": {},
   "outputs": [],
   "source": [
    "from ultralytics import YOLO\n",
    "from roboflow import Roboflow\n",
    "import random\n",
    "import wandb\n",
    "import ultralytics\n",
    "from wandb.integration.ultralytics import add_wandb_callback\n",
    "\n",
    "wandb.login(key=\"XXXXXXXXXXXXXX\")"
   ]
  },
  {
   "cell_type": "code",
   "execution_count": null,
   "id": "42ddc345-665a-449c-a180-f06e93ef700d",
   "metadata": {},
   "outputs": [
    {
     "name": "stdout",
     "output_type": "stream",
     "text": [
      "loading Roboflow workspace...\n",
      "loading Roboflow project...\n"
     ]
    }
   ],
   "source": [
    "rf = Roboflow(api_key=\"XXXXXXXXXXXX\")\n",
    "project = rf.workspace(\"capstonedesign-xkejj\").project(\"banner-seg-detection\")\n",
    "version = project.version(1)\n",
    "dataset = version.download(\"yolov11\")"
   ]
  },
  {
   "cell_type": "code",
   "execution_count": null,
   "id": "d2965cee-7c4b-4dee-87fd-591941c68c8b",
   "metadata": {},
   "outputs": [],
   "source": [
    "!yolo settings wandb=True"
   ]
  },
  {
   "cell_type": "code",
   "execution_count": null,
   "id": "d987c00f-fe96-4611-8750-195259c45850",
   "metadata": {},
   "outputs": [],
   "source": [
    "run = wandb.init(\n",
    "        project=\"banner_it\",\n",
    "        name=\"yolo11s_experiment\",  \n",
    "        config={\n",
    "            \"learning_rate\": 0.02,\n",
    "            \"epochs\": 500,\n",
    "            \"architecture\": \"yolo_v11s\",\n",
    "            \"dataset\": \"banner_image_v1\",\n",
    "        },\n",
    ")\n",
    "\n",
    "\n",
    "model_s = YOLO(\"yolo11s.pt\")\n",
    "model_s.train(data=\"data.yaml\",\n",
    "              epochs=500,\n",
    "              project=\"banner_it\",\n",
    "              patience=10,\n",
    "              name=\"yolo11s_experiment\")"
   ]
  },
  {
   "cell_type": "code",
   "execution_count": null,
   "id": "b1cf662e-c350-4041-918f-c61d831e95d2",
   "metadata": {},
   "outputs": [],
   "source": [
    "model = YOLO(\"yolo11s.pt\")\n",
    "model.train(data=\"data.yaml\", epochs=100, project=\"ultralytics\", name=\"yolo11s\")"
   ]
  },
  {
   "cell_type": "code",
   "execution_count": null,
   "id": "6e0ca587",
   "metadata": {},
   "outputs": [],
   "source": [
    "wandb.finish()"
   ]
  },
  {
   "cell_type": "code",
   "execution_count": null,
   "id": "35357df0-83c4-4381-9dfa-259de71ce1c7",
   "metadata": {},
   "outputs": [],
   "source": [
    "# 학습 후, test 데이터셋으로 평가\n",
    "results = model.val(data=\"data.yaml\", \n",
    "                    save_txt=True, \n",
    "                    save_json=True, \n",
    "                    plots=True)  # 평가 후 plot 표시"
   ]
  }
 ],
 "metadata": {
  "kernelspec": {
   "display_name": "banner_it",
   "language": "python",
   "name": "python3"
  },
  "language_info": {
   "codemirror_mode": {
    "name": "ipython",
    "version": 3
   },
   "file_extension": ".py",
   "mimetype": "text/x-python",
   "name": "python",
   "nbconvert_exporter": "python",
   "pygments_lexer": "ipython3",
   "version": "3.10.0"
  }
 },
 "nbformat": 4,
 "nbformat_minor": 5
}
